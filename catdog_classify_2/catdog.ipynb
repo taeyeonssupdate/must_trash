{
 "cells": [
  {
   "cell_type": "code",
   "execution_count": 1,
   "metadata": {},
   "outputs": [
    {
     "data": {
      "text/plain": [
       "'2.3.0'"
      ]
     },
     "execution_count": 1,
     "metadata": {},
     "output_type": "execute_result"
    }
   ],
   "source": [
    "import os     \n",
    "import numpy as np\n",
    "import tensorflow as tf\n",
    "import pandas as pd\n",
    "from tensorflow.keras.optimizers import Adam\n",
    "from tensorflow.keras.layers import Conv2D, MaxPooling2D, ZeroPadding2D\n",
    "from tensorflow.keras.layers import Activation,Flatten,Dense,Dropout\n",
    "from tensorflow.keras.models import Sequential,load_model\n",
    "from tensorflow.keras.callbacks import ModelCheckpoint,EarlyStopping\n",
    "from tensorflow.keras.preprocessing.image import ImageDataGenerator \n",
    "tf.__version__"
   ]
  },
  {
   "cell_type": "code",
   "execution_count": 2,
   "metadata": {},
   "outputs": [],
   "source": [
    "classes = [\"A\", \"B\", \"C\"]"
   ]
  },
  {
   "cell_type": "code",
   "execution_count": 3,
   "metadata": {},
   "outputs": [],
   "source": [
    "idg=ImageDataGenerator(rescale=1./255,dtype = ('float32'),\n",
    "                                   rotation_range=40,        #隨機旋轉0~40度\n",
    "                                   width_shift_range=0.4,    #隨機水平偏移的幅度  參數0~1之間  隨機偏移距離0~圖片長*參數\n",
    "                                   height_shift_range=0.4,   #隨機垂直偏移的幅度  參數0~1之間  隨機偏移距離0~圖片寬*參數\n",
    "                                   shear_range=0.4,         #按比例平移\n",
    "                                    fill_mode='nearest',\n",
    "                                   validation_split=0.2,\n",
    "                                   zoom_range=0.4,          #隨機縮放的幅度 參數0~1放大   大於1變小\n",
    "                                   horizontal_flip=True)\n",
    "idg2=ImageDataGenerator(rescale=1./255)"
   ]
  },
  {
   "cell_type": "code",
   "execution_count": 4,
   "metadata": {},
   "outputs": [
    {
     "name": "stdout",
     "output_type": "stream",
     "text": [
      "Found 2055 images belonging to 3 classes.\n"
     ]
    }
   ],
   "source": [
    "train_directory=idg.flow_from_directory(\n",
    "    directory=os.path.join(\"./train\"),\n",
    "    target_size=(224, 224),\n",
    "    classes=classes,\n",
    "    batch_size=20,\n",
    "    class_mode='categorical',\n",
    "    subset='training')"
   ]
  },
  {
   "cell_type": "code",
   "execution_count": 5,
   "metadata": {},
   "outputs": [
    {
     "name": "stdout",
     "output_type": "stream",
     "text": [
      "Found 511 images belonging to 3 classes.\n"
     ]
    }
   ],
   "source": [
    "validation_directory=idg.flow_from_directory(\n",
    "    directory=os.path.join(\"./train\"),\n",
    "    target_size=(224, 224),\n",
    "    classes=classes,\n",
    "    batch_size=20,\n",
    "    class_mode='categorical',\n",
    "    subset='validation')"
   ]
  },
  {
   "cell_type": "code",
   "execution_count": 6,
   "metadata": {},
   "outputs": [
    {
     "name": "stdout",
     "output_type": "stream",
     "text": [
      "Model: \"sequential\"\n",
      "_________________________________________________________________\n",
      "Layer (type)                 Output Shape              Param #   \n",
      "=================================================================\n",
      "conv2d (Conv2D)              (None, 224, 224, 16)      448       \n",
      "_________________________________________________________________\n",
      "max_pooling2d (MaxPooling2D) (None, 112, 112, 16)      0         \n",
      "_________________________________________________________________\n",
      "conv2d_1 (Conv2D)            (None, 112, 112, 16)      2320      \n",
      "_________________________________________________________________\n",
      "max_pooling2d_1 (MaxPooling2 (None, 56, 56, 16)        0         \n",
      "_________________________________________________________________\n",
      "flatten (Flatten)            (None, 50176)             0         \n",
      "_________________________________________________________________\n",
      "dropout (Dropout)            (None, 50176)             0         \n",
      "_________________________________________________________________\n",
      "dense (Dense)                (None, 16)                802832    \n",
      "_________________________________________________________________\n",
      "dropout_1 (Dropout)          (None, 16)                0         \n",
      "_________________________________________________________________\n",
      "dense_1 (Dense)              (None, 3)                 51        \n",
      "=================================================================\n",
      "Total params: 805,651\n",
      "Trainable params: 805,651\n",
      "Non-trainable params: 0\n",
      "_________________________________________________________________\n",
      "None\n"
     ]
    },
    {
     "name": "stderr",
     "output_type": "stream",
     "text": [
      "2022-01-13 00:59:42.792657: I tensorflow/core/platform/cpu_feature_guard.cc:142] This TensorFlow binary is optimized with oneAPI Deep Neural Network Library (oneDNN)to use the following CPU instructions in performance-critical operations:  AVX2 FMA\n",
      "To enable them in other operations, rebuild TensorFlow with the appropriate compiler flags.\n",
      "2022-01-13 00:59:42.808662: I tensorflow/compiler/xla/service/service.cc:168] XLA service 0x7fcd8c7fd250 initialized for platform Host (this does not guarantee that XLA will be used). Devices:\n",
      "2022-01-13 00:59:42.808673: I tensorflow/compiler/xla/service/service.cc:176]   StreamExecutor device (0): Host, Default Version\n"
     ]
    }
   ],
   "source": [
    "model = Sequential()\n",
    "\n",
    "model.add(Conv2D(filters=16,\n",
    "                 kernel_size=(3,3),\n",
    "                 padding='same',\n",
    "                 input_shape=(224,224,3), \n",
    "                 activation='relu'))\n",
    "model.add(MaxPooling2D(pool_size=(2, 2)))\n",
    "model.add(Conv2D(filters=16,\n",
    "                 kernel_size=(3,3),\n",
    "                 padding='same',\n",
    "                 input_shape=(224,224,3), \n",
    "                 activation='relu'))\n",
    "model.add(MaxPooling2D(pool_size=(2, 2)))\n",
    "model.add(Flatten())\n",
    "model.add(Dropout(0.25))\n",
    "model.add(Dense(16, activation='relu'))\n",
    "model.add(Dropout(0.25))\n",
    "model.add(Dense(3,activation='softmax'))\n",
    "\n",
    "print(model.summary())"
   ]
  },
  {
   "cell_type": "code",
   "execution_count": 7,
   "metadata": {},
   "outputs": [],
   "source": [
    "adamm=Adam(lr=0.001)\n",
    "model.compile(loss='binary_crossentropy',\n",
    "              optimizer=adamm,metrics=['accuracy']) "
   ]
  },
  {
   "cell_type": "code",
   "execution_count": 8,
   "metadata": {},
   "outputs": [],
   "source": [
    "stop=EarlyStopping(monitor='val_loss', patience=5,verbose=1)\n",
    "checkpoint = tf.keras.callbacks.ModelCheckpoint(\n",
    "    './model/',\n",
    "    monitor='val_loss',\n",
    "    save_best_only=True,\n",
    "    verbose=0 ) "
   ]
  },
  {
   "cell_type": "code",
   "execution_count": 9,
   "metadata": {},
   "outputs": [
    {
     "name": "stdout",
     "output_type": "stream",
     "text": [
      "WARNING:tensorflow:From /var/folders/d5/h1w_4xx9625dw_789msgxnbw0000gn/T/ipykernel_13459/580847920.py:1: Model.fit_generator (from tensorflow.python.keras.engine.training) is deprecated and will be removed in a future version.\n",
      "Instructions for updating:\n",
      "Please use Model.fit, which supports generators.\n",
      "Epoch 1/10\n",
      "5/5 [==============================] - ETA: 0s - loss: 0.9938 - accuracy: 0.3900WARNING:tensorflow:From /Users/taeyeon/Library/Python/3.8/lib/python/site-packages/tensorflow/python/training/tracking/tracking.py:111: Model.state_updates (from tensorflow.python.keras.engine.training) is deprecated and will be removed in a future version.\n",
      "Instructions for updating:\n",
      "This property should not be used in TensorFlow 2.0, as updates are applied automatically.\n",
      "WARNING:tensorflow:From /Users/taeyeon/Library/Python/3.8/lib/python/site-packages/tensorflow/python/training/tracking/tracking.py:111: Layer.updates (from tensorflow.python.keras.engine.base_layer) is deprecated and will be removed in a future version.\n",
      "Instructions for updating:\n",
      "This property should not be used in TensorFlow 2.0, as updates are applied automatically.\n"
     ]
    },
    {
     "name": "stderr",
     "output_type": "stream",
     "text": [
      "2022-01-13 00:59:46.353594: W tensorflow/python/util/util.cc:348] Sets are not currently considered sequences, but this may change in the future, so consider avoiding using them.\n"
     ]
    },
    {
     "name": "stdout",
     "output_type": "stream",
     "text": [
      "INFO:tensorflow:Assets written to: ./model/assets\n",
      "5/5 [==============================] - 3s 571ms/step - loss: 0.9938 - accuracy: 0.3900 - val_loss: 0.6420 - val_accuracy: 0.2600\n",
      "Epoch 2/10\n",
      "5/5 [==============================] - ETA: 0s - loss: 0.6099 - accuracy: 0.3900INFO:tensorflow:Assets written to: ./model/assets\n",
      "5/5 [==============================] - 3s 561ms/step - loss: 0.6099 - accuracy: 0.3900 - val_loss: 0.5990 - val_accuracy: 0.4200\n",
      "Epoch 3/10\n",
      "5/5 [==============================] - 2s 418ms/step - loss: 0.5842 - accuracy: 0.4300 - val_loss: 0.6386 - val_accuracy: 0.4000\n",
      "Epoch 4/10\n",
      "5/5 [==============================] - ETA: 0s - loss: 0.5591 - accuracy: 0.5300"
     ]
    },
    {
     "name": "stderr",
     "output_type": "stream",
     "text": [
      "/Users/taeyeon/Library/Python/3.8/lib/python/site-packages/PIL/Image.py:945: UserWarning: Palette images with Transparency expressed in bytes should be converted to RGBA images\n",
      "  warnings.warn(\n"
     ]
    },
    {
     "name": "stdout",
     "output_type": "stream",
     "text": [
      "INFO:tensorflow:Assets written to: ./model/assets\n",
      "5/5 [==============================] - 2s 497ms/step - loss: 0.5591 - accuracy: 0.5300 - val_loss: 0.5156 - val_accuracy: 0.5300\n",
      "Epoch 5/10\n",
      "5/5 [==============================] - ETA: 0s - loss: 0.5645 - accuracy: 0.6000INFO:tensorflow:Assets written to: ./model/assets\n",
      "5/5 [==============================] - 3s 544ms/step - loss: 0.5645 - accuracy: 0.6000 - val_loss: 0.5110 - val_accuracy: 0.6000\n",
      "Epoch 6/10\n",
      "5/5 [==============================] - 2s 413ms/step - loss: 0.5350 - accuracy: 0.6300 - val_loss: 0.5463 - val_accuracy: 0.5400\n",
      "Epoch 7/10\n",
      "5/5 [==============================] - ETA: 0s - loss: 0.5206 - accuracy: 0.6100INFO:tensorflow:Assets written to: ./model/assets\n",
      "5/5 [==============================] - 3s 524ms/step - loss: 0.5206 - accuracy: 0.6100 - val_loss: 0.4897 - val_accuracy: 0.6100\n",
      "Epoch 8/10\n",
      "5/5 [==============================] - 2s 427ms/step - loss: 0.5828 - accuracy: 0.5400 - val_loss: 0.5241 - val_accuracy: 0.6700\n",
      "Epoch 9/10\n",
      "5/5 [==============================] - 2s 387ms/step - loss: 0.5777 - accuracy: 0.5500 - val_loss: 0.5345 - val_accuracy: 0.6700\n",
      "Epoch 10/10\n",
      "5/5 [==============================] - 2s 388ms/step - loss: 0.5287 - accuracy: 0.6400 - val_loss: 0.5517 - val_accuracy: 0.5400\n"
     ]
    }
   ],
   "source": [
    "fit_history=model.fit_generator(train_directory,\n",
    "                                steps_per_epoch=5,\n",
    "                                epochs=10,\n",
    "                                validation_data=validation_directory,\n",
    "                                validation_steps=5,\n",
    "                                callbacks=[stop,checkpoint]) "
   ]
  },
  {
   "cell_type": "code",
   "execution_count": 10,
   "metadata": {},
   "outputs": [],
   "source": [
    "model = load_model('./model/')"
   ]
  },
  {
   "cell_type": "code",
   "execution_count": 11,
   "metadata": {},
   "outputs": [],
   "source": [
    "import matplotlib.pyplot as plt\n",
    "def show_train_history(train_history,train_acc,test_acc):\n",
    "    plt.plot(train_history.history[train_acc])\n",
    "    plt.plot(train_history.history[test_acc])\n",
    "    plt.title('Train History')\n",
    "    plt.ylabel('Accuracy')\n",
    "    plt.xlabel('Epoch')\n",
    "    plt.legend(['train', 'test'], loc='upper left')\n",
    "    plt.show()"
   ]
  },
  {
   "cell_type": "code",
   "execution_count": 12,
   "metadata": {},
   "outputs": [
    {
     "data": {
      "image/png": "[encoded data removed]",
      "text/plain": [
       "<Figure size 432x288 with 1 Axes>"
      ]
     },
     "metadata": {
      "needs_background": "light"
     },
     "output_type": "display_data"
    }
   ],
   "source": [
    "show_train_history(fit_history,'accuracy','val_accuracy')"
   ]
  },
  {
   "cell_type": "code",
   "execution_count": 13,
   "metadata": {},
   "outputs": [
    {
     "data": {
      "image/png": "[encoded data removed]",
      "text/plain": [
       "<Figure size 432x288 with 1 Axes>"
      ]
     },
     "metadata": {
      "needs_background": "light"
     },
     "output_type": "display_data"
    }
   ],
   "source": [
    "show_train_history(fit_history,'loss','val_loss')"
   ]
  },
  {
   "cell_type": "code",
   "execution_count": 14,
   "metadata": {},
   "outputs": [
    {
     "name": "stdout",
     "output_type": "stream",
     "text": [
      "Found 102 validated image filenames.\n"
     ]
    }
   ],
   "source": [
    "test_path = './test/test.csv'\n",
    "df = pd.read_csv(test_path, sep=',', skiprows=1,  names=['id', 'label'])\n",
    "df['id'] = df['id'].astype('str')\n",
    "\n",
    "test_datagen = ImageDataGenerator(rescale=1/255.)\n",
    "\n",
    "test_directory = test_datagen.flow_from_dataframe(df, './test/testtest',\n",
    "                                                x_col='id', y_col='label',\n",
    "                                                target_size=(224,224),\n",
    "                                                interpolation='bicubic',\n",
    "                                                class_mode=None,\n",
    "                                                shuffle=False,\n",
    "                                                batch_size=1)"
   ]
  },
  {
   "cell_type": "code",
   "execution_count": 15,
   "metadata": {},
   "outputs": [
    {
     "name": "stdout",
     "output_type": "stream",
     "text": [
      "WARNING:tensorflow:From /var/folders/d5/h1w_4xx9625dw_789msgxnbw0000gn/T/ipykernel_13459/4103005148.py:1: Model.predict_generator (from tensorflow.python.keras.engine.training) is deprecated and will be removed in a future version.\n",
      "Instructions for updating:\n",
      "Please use Model.predict, which supports generators.\n",
      "102/102 [==============================] - 0s 4ms/step\n"
     ]
    },
    {
     "data": {
      "text/plain": [
       "array([[0.63695884, 0.24491256, 0.11812858],\n",
       "       [0.49578133, 0.19589488, 0.3083239 ],\n",
       "       [0.35770547, 0.24745657, 0.39483792],\n",
       "       [0.3865181 , 0.23303057, 0.38045138],\n",
       "       [0.3510133 , 0.24727672, 0.40171   ],\n",
       "       [0.8593711 , 0.127124  , 0.01350486],\n",
       "       [0.4124334 , 0.24222901, 0.3453376 ],\n",
       "       [0.39096686, 0.18824135, 0.42079183],\n",
       "       [0.43547177, 0.22005375, 0.34447446],\n",
       "       [0.43547177, 0.22005375, 0.34447446]], dtype=float32)"
      ]
     },
     "execution_count": 15,
     "metadata": {},
     "output_type": "execute_result"
    }
   ],
   "source": [
    "predict = model.predict_generator(test_directory,verbose=1)\n",
    "predict[:10]"
   ]
  },
  {
   "cell_type": "code",
   "execution_count": 16,
   "metadata": {},
   "outputs": [
    {
     "name": "stdout",
     "output_type": "stream",
     "text": [
      "102\n"
     ]
    },
    {
     "data": {
      "text/plain": [
       "array([0, 0, 2, 0, 2, 0, 0, 2, 0, 0])"
      ]
     },
     "execution_count": 16,
     "metadata": {},
     "output_type": "execute_result"
    }
   ],
   "source": [
    "pred_max = np.argmax(predict, axis = 1)\n",
    "print(len(pred_max))\n",
    "pred_max[:10]"
   ]
  },
  {
   "cell_type": "code",
   "execution_count": 17,
   "metadata": {},
   "outputs": [],
   "source": [
    "label_dict = {0: \"A\", 1: \"B\", 2: \"C\"}"
   ]
  },
  {
   "cell_type": "code",
   "execution_count": 18,
   "metadata": {},
   "outputs": [
    {
     "name": "stdout",
     "output_type": "stream",
     "text": [
      "{0: 'A', 1: 'B', 2: 'C'}\n"
     ]
    },
    {
     "data": {
      "text/html": [
       "<div>\n",
       "<style scoped>\n",
       "    .dataframe tbody tr th:only-of-type {\n",
       "        vertical-align: middle;\n",
       "    }\n",
       "\n",
       "    .dataframe tbody tr th {\n",
       "        vertical-align: top;\n",
       "    }\n",
       "\n",
       "    .dataframe thead th {\n",
       "        text-align: right;\n",
       "    }\n",
       "</style>\n",
       "<table border=\"1\" class=\"dataframe\">\n",
       "  <thead>\n",
       "    <tr style=\"text-align: right;\">\n",
       "      <th>predict</th>\n",
       "      <th>0</th>\n",
       "      <th>2</th>\n",
       "    </tr>\n",
       "    <tr>\n",
       "      <th>label</th>\n",
       "      <th></th>\n",
       "      <th></th>\n",
       "    </tr>\n",
       "  </thead>\n",
       "  <tbody>\n",
       "    <tr>\n",
       "      <th>0</th>\n",
       "      <td>28</td>\n",
       "      <td>6</td>\n",
       "    </tr>\n",
       "    <tr>\n",
       "      <th>1</th>\n",
       "      <td>31</td>\n",
       "      <td>3</td>\n",
       "    </tr>\n",
       "    <tr>\n",
       "      <th>2</th>\n",
       "      <td>14</td>\n",
       "      <td>20</td>\n",
       "    </tr>\n",
       "  </tbody>\n",
       "</table>\n",
       "</div>"
      ],
      "text/plain": [
       "predict   0   2\n",
       "label          \n",
       "0        28   6\n",
       "1        31   3\n",
       "2        14  20"
      ]
     },
     "execution_count": 18,
     "metadata": {},
     "output_type": "execute_result"
    }
   ],
   "source": [
    "test_label = df['label']\n",
    "print(label_dict)\n",
    "pd.crosstab(test_label,pred_max,\n",
    "            rownames=['label'],colnames=['predict'])"
   ]
  },
  {
   "cell_type": "code",
   "execution_count": 19,
   "metadata": {},
   "outputs": [],
   "source": [
    "def show_Predicted_Probability(i):\n",
    "    print('label:',label_dict[test_label[i]],\n",
    "          'predict:',label_dict[pred_max[i]])\n",
    "    plt.figure(figsize=(2,2))\n",
    "    plt.imshow(np.reshape(test_directory[i],(224, 224,3)))\n",
    "    plt.show()\n",
    "    for j in range(2):\n",
    "        print(label_dict[j]+' Probability:%1.5f'%(predict[i][j]))"
   ]
  },
  {
   "cell_type": "code",
   "execution_count": 20,
   "metadata": {},
   "outputs": [
    {
     "name": "stdout",
     "output_type": "stream",
     "text": [
      "label: A predict: A\n"
     ]
    },
    {
     "data": {
      "image/png": "[encoded data removed]",
      "text/plain": [
       "<Figure size 144x144 with 1 Axes>"
      ]
     },
     "metadata": {
      "needs_background": "light"
     },
     "output_type": "display_data"
    },
    {
     "name": "stdout",
     "output_type": "stream",
     "text": [
      "A Probability:0.63696\n",
      "B Probability:0.24491\n"
     ]
    }
   ],
   "source": [
    "show_Predicted_Probability(0)"
   ]
  },
  {
   "cell_type": "code",
   "execution_count": 21,
   "metadata": {},
   "outputs": [
    {
     "data": {
      "text/html": [
       "<div>\n",
       "<style scoped>\n",
       "    .dataframe tbody tr th:only-of-type {\n",
       "        vertical-align: middle;\n",
       "    }\n",
       "\n",
       "    .dataframe tbody tr th {\n",
       "        vertical-align: top;\n",
       "    }\n",
       "\n",
       "    .dataframe thead th {\n",
       "        text-align: right;\n",
       "    }\n",
       "</style>\n",
       "<table border=\"1\" class=\"dataframe\">\n",
       "  <thead>\n",
       "    <tr style=\"text-align: right;\">\n",
       "      <th></th>\n",
       "      <th>label</th>\n",
       "      <th>predict</th>\n",
       "    </tr>\n",
       "  </thead>\n",
       "  <tbody>\n",
       "  </tbody>\n",
       "</table>\n",
       "</div>"
      ],
      "text/plain": [
       "Empty DataFrame\n",
       "Columns: [label, predict]\n",
       "Index: []"
      ]
     },
     "execution_count": 21,
     "metadata": {},
     "output_type": "execute_result"
    }
   ],
   "source": [
    "df = pd.DataFrame({'label':test_label, 'predict':pred_max})\n",
    "df[(df.label==0)&(df.predict==1)]"
   ]
  },
  {
   "cell_type": "code",
   "execution_count": 22,
   "metadata": {},
   "outputs": [
    {
     "name": "stdout",
     "output_type": "stream",
     "text": [
      "label: A predict: A\n"
     ]
    },
    {
     "data": {
      "image/png": "[encoded data removed]",
      "text/plain": [
       "<Figure size 144x144 with 1 Axes>"
      ]
     },
     "metadata": {
      "needs_background": "light"
     },
     "output_type": "display_data"
    },
    {
     "name": "stdout",
     "output_type": "stream",
     "text": [
      "A Probability:0.52608\n",
      "B Probability:0.24115\n"
     ]
    }
   ],
   "source": [
    "show_Predicted_Probability(24)"
   ]
  },
  {
   "cell_type": "code",
   "execution_count": null,
   "metadata": {},
   "outputs": [],
   "source": []
  }
 ],
 "metadata": {
  "kernelspec": {
   "display_name": "Python 3",
   "language": "python",
   "name": "python3"
  },
  "language_info": {
   "codemirror_mode": {
    "name": "ipython",
    "version": 3
   },
   "file_extension": ".py",
   "mimetype": "text/x-python",
   "name": "python",
   "nbconvert_exporter": "python",
   "pygments_lexer": "ipython3",
   "version": "3.8.9"
  }
 },
 "nbformat": 4,
 "nbformat_minor": 2
}
