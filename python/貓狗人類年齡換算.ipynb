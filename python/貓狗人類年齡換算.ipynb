{
 "cells": [
  {
   "cell_type": "code",
   "execution_count": null,
   "source": [
    "import math\n",
    "\n",
    "pet = input('你家的毛小孩是「貓咪」還是「狗狗」？')\n",
    "\n",
    "if(pet == '狗狗'):\n",
    "    dog_age = input('狗狗幾歲了？')\n",
    "    human_age = int(16*math.log(int(dog_age))+31)\n",
    "    print('你家的某某是人類的', human_age, '歲')\n",
    "elif(pet == '貓咪'):\n",
    "    cat_age = int(input('貓咪幾歲了'))\n",
    "    if (cat_age == 1):\n",
    "        human_age = 15\n",
    "    elif(cat_age == 2):\n",
    "        human_age = 24\n",
    "    else:\n",
    "        human_age = 24+(cat_age-2)*4\n",
    "    print('你吃家的貓咪是人累的', human_age, '歲')\n",
    "else:\n",
    "    print('只能輸入「貓咪」或「狗狗」喔！')\n"
   ],
   "outputs": [],
   "metadata": {}
  }
 ],
 "metadata": {
  "orig_nbformat": 4,
  "language_info": {
   "name": "python"
  }
 },
 "nbformat": 4,
 "nbformat_minor": 2
}