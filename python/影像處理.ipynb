{
 "cells": [
  {
   "cell_type": "markdown",
   "metadata": {
    "id": "wZOvvCkQp92K"
   },
   "source": [
    "#11-2-1 用 OpenCV 讀取並顯示圖片"
   ]
  },
  {
   "cell_type": "code",
   "execution_count": 10,
   "metadata": {
    "executionInfo": {
     "elapsed": 1567,
     "status": "ok",
     "timestamp": 1617764717384,
     "user": {
      "displayName": "Tristan Chang",
      "photoUrl": "https://lh3.googleusercontent.com/a-/AOh14Gh12xA8ZXwa1dgzXFsLj_MwkqJdmxu_hK6DdwmvTQ=s64",
      "userId": "01396821554749831700"
     },
     "user_tz": -480
    },
    "id": "56R1bG6Np9cj"
   },
   "outputs": [],
   "source": [
    "# 執行本章各行範例前, 請先執行此儲存格, 確認 cv2 已確實匯入\n",
    "# 執行本章各行範例前, 請先執行此儲存格, 確認 cv2 已確實匯入\n",
    "# 執行本章各行範例前, 請先執行此儲存格, 確認 cv2 已確實匯入\n",
    "import numpy as np\n",
    "import cv2\n",
    "\n",
    "#import matplotlib.pyplot as plt\n",
    "#\n",
    "#def aidemy_imshow(name, img):\n",
    "#    b, g, r = cv2.split(img)\n",
    "#    img = cv2.merge([r, g, b])\n",
    "#    plt.title(name)\n",
    "#    plt.imshow(img)\n",
    "#    plt.show()\n",
    "\n",
    "#cv2.imshow = aidemy_imshow"
   ]
  },
  {
   "cell_type": "code",
   "execution_count": 11,
   "metadata": {
    "executionInfo": {
     "elapsed": 3148,
     "status": "ok",
     "timestamp": 1617764718973,
     "user": {
      "displayName": "Tristan Chang",
      "photoUrl": "https://lh3.googleusercontent.com/a-/AOh14Gh12xA8ZXwa1dgzXFsLj_MwkqJdmxu_hK6DdwmvTQ=s64",
      "userId": "01396821554749831700"
     },
     "user_tz": -480
    },
    "id": "hPrLoJpeu_J4"
   },
   "outputs": [
    {
     "name": "stdout",
     "output_type": "stream",
     "text": [
      "<class 'numpy.ndarray'>\n",
      "(873, 1309, 3)\n"
     ]
    }
   ],
   "source": [
    "cv2.namedWindow(\"sample\")\n",
    "sample = cv2.imread(r'./photo/sample.jpg')  # 請依11-2-1節的說明，換成您自己的雲端硬碟路徑\n",
    "print(type(sample))\n",
    "print(sample.shape)\n",
    "cv2.imshow('Sample pic', sample)\n",
    "cv2.waitKey(0)\n",
    "cv2.destroyAllWindows()\n"
   ]
  },
  {
   "cell_type": "code",
   "execution_count": 12,
   "metadata": {},
   "outputs": [
    {
     "name": "stdout",
     "output_type": "stream",
     "text": [
      "<class 'numpy.ndarray'>\n",
      "(943, 1414, 3)\n"
     ]
    }
   ],
   "source": [
    "#讀入 sample2.jpg  顯示 sample2.jpg\n",
    "# 你的程式碼\n",
    "\n",
    "cv2.namedWindow(\"sample2\")\n",
    "sample2 = cv2.imread(r'./photo/sample2.jpg')  # 請依11-2-1節的說明，換成您自己的雲端硬碟路徑\n",
    "print(type(sample2))\n",
    "print(sample2.shape)\n",
    "cv2.imshow('sample2 pic', sample2)\n",
    "cv2.waitKey(0)\n",
    "cv2.destroyAllWindows()\n"
   ]
  },
  {
   "cell_type": "code",
   "execution_count": 13,
   "metadata": {
    "colab": {
     "base_uri": "https://localhost:8080/",
     "height": 281
    },
    "executionInfo": {
     "elapsed": 2165,
     "status": "ok",
     "timestamp": 1615379359928,
     "user": {
      "displayName": "Tristan Chang",
      "photoUrl": "https://lh3.googleusercontent.com/a-/AOh14Gh12xA8ZXwa1dgzXFsLj_MwkqJdmxu_hK6DdwmvTQ=s64",
      "userId": "01396821554749831700"
     },
     "user_tz": -480
    },
    "id": "3S0Iy1_UGdMe",
    "outputId": "52a23a13-1649-4355-954d-c2f3273fc854"
   },
   "outputs": [
    {
     "name": "stdout",
     "output_type": "stream",
     "text": [
      "(436, 654, 3)\n"
     ]
    }
   ],
   "source": [
    "img_resize = cv2.resize(sample, (sample.shape[1] //2, sample.shape[0] //2))\n",
    "print(img_resize.shape)\n",
    "cv2.imshow('Sample pic', img_resize)\n",
    "cv2.waitKey(0)\n",
    "cv2.destroyAllWindows()\n"
   ]
  },
  {
   "cell_type": "code",
   "execution_count": 14,
   "metadata": {},
   "outputs": [
    {
     "name": "stdout",
     "output_type": "stream",
     "text": [
      "(1886, 2828, 3)\n"
     ]
    }
   ],
   "source": [
    "#讀入 sample2.jpg  長寬各放大2倍  sample2.jpg\n",
    "# 你的程式碼\n",
    "img_resize2 = cv2.resize(sample2, (sample2.shape[1] * 2, sample2.shape[0] * 2))\n",
    "print(img_resize2.shape)\n",
    "cv2.imshow('Sample pic', img_resize2)\n",
    "cv2.waitKey(0)\n",
    "cv2.destroyAllWindows()\n"
   ]
  },
  {
   "cell_type": "markdown",
   "metadata": {
    "id": "2aoYggyWFNNP"
   },
   "source": [
    "#11-2-6 圖片旋轉"
   ]
  },
  {
   "cell_type": "code",
   "execution_count": 15,
   "metadata": {
    "id": "ydjDGVkkImoG"
   },
   "outputs": [
    {
     "name": "stdout",
     "output_type": "stream",
     "text": [
      "<class 'numpy.ndarray'>\n",
      "(2, 3)\n",
      "[[  0.69282032   0.4         26.44909858]\n",
      " [ -0.4          0.69282032 395.883929  ]]\n",
      "(873, 1309, 3)\n"
     ]
    }
   ],
   "source": [
    "aff_matrix = cv2.getRotationMatrix2D((sample.shape[1]/2, sample.shape[0]/2), 30, 0.8)\n",
    "\n",
    "print(type(aff_matrix))\n",
    "print(aff_matrix.shape)\n",
    "print (aff_matrix)\n",
    "print(sample.shape)\n",
    "img_rotate = cv2.warpAffine(sample, aff_matrix, (sample.shape[1], sample.shape[0]))\n",
    "cv2.imshow('Sample pic', img_rotate)\n",
    "cv2.waitKey(0)\n",
    "cv2.destroyAllWindows()\n"
   ]
  },
  {
   "cell_type": "code",
   "execution_count": 16,
   "metadata": {},
   "outputs": [
    {
     "name": "stdout",
     "output_type": "stream",
     "text": [
      "<class 'numpy.ndarray'>\n",
      "(2, 3)\n",
      "[[ 3.53553391e-01  3.53553391e-01  2.90337329e+02]\n",
      " [-3.53553391e-01  3.53553391e-01  5.54761823e+02]]\n",
      "(943, 1414, 3)\n"
     ]
    }
   ],
   "source": [
    "# 讀入 sample2.jpg  旋轉 45 度 縮小 成 0.5倍\n",
    "# 你的程式碼\n",
    "aff_matrix = cv2.getRotationMatrix2D((sample2.shape[1]/2, sample2.shape[0]/2), 45, 0.5)\n",
    "\n",
    "print(type(aff_matrix))\n",
    "print(aff_matrix.shape)\n",
    "print(aff_matrix)\n",
    "print(sample2.shape)\n",
    "img_rotate = cv2.warpAffine(sample2, aff_matrix, (sample2.shape[1], sample2.shape[0]))\n",
    "cv2.imshow('sample2 pic', img_rotate)\n",
    "cv2.waitKey(0)\n",
    "cv2.destroyAllWindows()\n"
   ]
  },
  {
   "cell_type": "markdown",
   "metadata": {
    "id": "-uQXTezSAU7l"
   },
   "source": [
    "#11-3-3 模糊效果"
   ]
  },
  {
   "cell_type": "code",
   "execution_count": 17,
   "metadata": {
    "colab": {
     "base_uri": "https://localhost:8080/",
     "height": 281
    },
    "executionInfo": {
     "elapsed": 1605,
     "status": "ok",
     "timestamp": 1615618304757,
     "user": {
      "displayName": "Tristan Chang",
      "photoUrl": "https://lh3.googleusercontent.com/a-/AOh14Gh12xA8ZXwa1dgzXFsLj_MwkqJdmxu_hK6DdwmvTQ=s64",
      "userId": "01396821554749831700"
     },
     "user_tz": -480
    },
    "id": "_QTQf5eUAqIW",
    "outputId": "96864834-c1bb-462d-ca50-702d75c70ebe"
   },
   "outputs": [],
   "source": [
    "Img_blur = cv2.GaussianBlur(sample, (11, 11), 3)\n",
    "\n",
    "cv2.imshow('Sample pic', Img_blur)\n",
    "cv2.waitKey(0)\n",
    "cv2.destroyAllWindows()\n"
   ]
  },
  {
   "cell_type": "code",
   "execution_count": 18,
   "metadata": {},
   "outputs": [],
   "source": [
    "# # 讀入 sample2.jpg  旋轉 用 (22,22) 矩陣做模糊效果\n",
    "# 你的程式碼\n",
    "Img_blur2 = cv2.GaussianBlur(sample2, (23, 23), 0) #內核只能用基數 無法用22\n",
    "\n",
    "cv2.imshow('Sample2 pic', Img_blur2)\n",
    "cv2.waitKey(0)\n",
    "cv2.destroyAllWindows()\n"
   ]
  },
  {
   "cell_type": "markdown",
   "metadata": {
    "id": "4nMwum8zW45-"
   },
   "source": [
    "#11-3-4 去除圖片的雜訊"
   ]
  },
  {
   "cell_type": "code",
   "execution_count": 19,
   "metadata": {
    "colab": {
     "base_uri": "https://localhost:8080/",
     "height": 281
    },
    "executionInfo": {
     "elapsed": 2051,
     "status": "ok",
     "timestamp": 1615619313266,
     "user": {
      "displayName": "Tristan Chang",
      "photoUrl": "https://lh3.googleusercontent.com/a-/AOh14Gh12xA8ZXwa1dgzXFsLj_MwkqJdmxu_hK6DdwmvTQ=s64",
      "userId": "01396821554749831700"
     },
     "user_tz": -480
    },
    "id": "MjdvqZP2Ap97",
    "outputId": "262dcdc4-8775-445e-b980-aab0a8231251"
   },
   "outputs": [],
   "source": [
    "img2 = cv2.imread(r'./photo/sample2.jpg')   #請依11-2-1節的說明，換成您自己的雲端硬碟路徑\n",
    "cv2.imshow('Sample pic', img2)\n",
    "cv2.waitKey(0)\n",
    "cv2.destroyAllWindows()\n"
   ]
  },
  {
   "cell_type": "code",
   "execution_count": 20,
   "metadata": {
    "id": "jJBoaXHrZ6rj"
   },
   "outputs": [],
   "source": [
    "\n",
    "\n",
    "img2_denoised = cv2.fastNlMeansDenoisingColored(img2, h=5)\n",
    "\n",
    "cv2.imshow('Sample pic', img2_denoised)\n",
    "cv2.waitKey(0)\n",
    "cv2.destroyAllWindows()\n"
   ]
  },
  {
   "cell_type": "code",
   "execution_count": 21,
   "metadata": {},
   "outputs": [],
   "source": [
    "# 讀入 sample.jpg  去除圖片的雜訊\n",
    "# 你的程式碼\n",
    "img3 = cv2.imread(r'./photo/sample.jpg')  # 請依11-2-1節的說明，換成您自己的雲端硬碟路徑\n",
    "cv2.imshow('Sample pic', img3)\n",
    "cv2.waitKey(0)\n",
    "cv2.destroyAllWindows()\n",
    "\n",
    "\n",
    "img3_denoised = cv2.fastNlMeansDenoisingColored(img3, h=5)\n",
    "\n",
    "cv2.imshow('Sample pic', img3_denoised)\n",
    "cv2.waitKey(0)\n",
    "cv2.destroyAllWindows()\n",
    "exit(0)\n"
   ]
  }
 ],
 "metadata": {
  "colab": {
   "authorship_tag": "ABX9TyNqknix3aFpJTE176EetwXQ",
   "collapsed_sections": [],
   "mount_file_id": "1dRVTpIEBBLnvbyjrY4N6iR1KdYCkviGs",
   "name": "F1378 - Ch11.ipynb",
   "provenance": []
  },
  "kernelspec": {
   "display_name": "Python 3",
   "language": "python",
   "name": "python3"
  },
  "language_info": {
   "codemirror_mode": {
    "name": "ipython",
    "version": 3
   },
   "file_extension": ".py",
   "mimetype": "text/x-python",
   "name": "python",
   "nbconvert_exporter": "python",
   "pygments_lexer": "ipython3",
   "version": "3.9.9"
  }
 },
 "nbformat": 4,
 "nbformat_minor": 1
}
