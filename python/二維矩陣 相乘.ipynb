{
 "cells": [
  {
   "cell_type": "code",
   "execution_count": 5,
   "metadata": {},
   "outputs": [],
   "source": [
    "m = int(input(\"Please input m\"))\n",
    "n = int(input(\"Please input n\"))\n",
    "p = int(input(\"Please input p\"))\n"
   ]
  },
  {
   "cell_type": "code",
   "execution_count": 6,
   "metadata": {},
   "outputs": [
    {
     "name": "stdout",
     "output_type": "stream",
     "text": [
      "Create matrix A\n",
      "Create matrix B\n"
     ]
    }
   ],
   "source": [
    "print(\"Create matrix A\")\n",
    "A = []\n",
    "for i in range(m):\n",
    "    A.append(list(map(int, input(\"Please row number: \").split(' '))))\n",
    "print(\"Create matrix B\")\n",
    "B = []\n",
    "for i in range(n):\n",
    "    B.append(list(map(int, input(\"Please row number: \").split(' '))))"
   ]
  },
  {
   "cell_type": "code",
   "execution_count": 7,
   "metadata": {},
   "outputs": [],
   "source": [
    "def run(A, B):\n",
    "    multiply = []\n",
    "    result = [list(row) for row in zip(*B)]\n",
    "    for Al in range(len(A)):\n",
    "        row = []\n",
    "        for Bl in range(len(result)):\n",
    "            num = 0\n",
    "            for Br in range(len(result[0])):\n",
    "                num += A[Al][Br] * result[Bl][Br]\n",
    "            row.append(num)\n",
    "        multiply.append(row)\n",
    "    return multiply"
   ]
  },
  {
   "cell_type": "code",
   "execution_count": 8,
   "metadata": {},
   "outputs": [
    {
     "name": "stdout",
     "output_type": "stream",
     "text": [
      "[[14, 11, 21], [38, 30, 54], [20, 17, 3]]\n"
     ]
    }
   ],
   "source": [
    "print(run(A, B))"
   ]
  }
 ],
 "metadata": {
  "interpreter": {
   "hash": "aee8b7b246df8f9039afb4144a1f6fd8d2ca17a180786b69acc140d282b71a49"
  },
  "kernelspec": {
   "display_name": "Python 3.8.12 64-bit",
   "name": "python3"
  },
  "language_info": {
   "codemirror_mode": {
    "name": "ipython",
    "version": 3
   },
   "file_extension": ".py",
   "mimetype": "text/x-python",
   "name": "python",
   "nbconvert_exporter": "python",
   "pygments_lexer": "ipython3",
   "version": "3.8.12"
  },
  "orig_nbformat": 4
 },
 "nbformat": 4,
 "nbformat_minor": 2
}
