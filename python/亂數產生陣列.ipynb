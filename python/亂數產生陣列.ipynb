{
 "cells": [
  {
   "cell_type": "code",
   "execution_count": 4,
   "source": [
    "import random\n",
    "print([random.randint(0, 1000)+i for i in range(10)])"
   ],
   "outputs": [
    {
     "output_type": "stream",
     "name": "stdout",
     "text": [
      "[66, 65, 326, 968, 572, 982, 347, 108, 256, 873]\n"
     ]
    }
   ],
   "metadata": {}
  },
  {
   "cell_type": "code",
   "execution_count": 5,
   "source": [
    "x = [[random.randint(0, 1000) for i in range(5)] for x in range(5)]\n",
    "for i in range(5):\n",
    "    x[0][i] += 2*i+1\n",
    "print(x)"
   ],
   "outputs": [
    {
     "output_type": "stream",
     "name": "stdout",
     "text": [
      "[[619, 34, 201, 932, 900], [116, 786, 609, 951, 929], [303, 320, 549, 357, 259], [816, 937, 493, 272, 741], [855, 672, 559, 941, 305]]\n"
     ]
    }
   ],
   "metadata": {}
  },
  {
   "cell_type": "code",
   "execution_count": 6,
   "source": [
    "x = [[random.randint(0, 1000) for i in range(5)] for x in range(5)]\n",
    "for i in range(5):\n",
    "    x[i][0] += 2*i+1\n",
    "print(x)"
   ],
   "outputs": [
    {
     "output_type": "stream",
     "name": "stdout",
     "text": [
      "[[873, 953, 427, 380, 246], [724, 302, 665, 734, 88], [886, 358, 602, 999, 705], [583, 305, 290, 698, 456], [686, 911, 58, 369, 320]]\n"
     ]
    }
   ],
   "metadata": {}
  }
 ],
 "metadata": {
  "orig_nbformat": 4,
  "language_info": {
   "name": "python",
   "version": "3.9.6",
   "mimetype": "text/x-python",
   "codemirror_mode": {
    "name": "ipython",
    "version": 3
   },
   "pygments_lexer": "ipython3",
   "nbconvert_exporter": "python",
   "file_extension": ".py"
  },
  "kernelspec": {
   "name": "python3",
   "display_name": "Python 3.9.6 64-bit"
  },
  "interpreter": {
   "hash": "aee8b7b246df8f9039afb4144a1f6fd8d2ca17a180786b69acc140d282b71a49"
  }
 },
 "nbformat": 4,
 "nbformat_minor": 2
}