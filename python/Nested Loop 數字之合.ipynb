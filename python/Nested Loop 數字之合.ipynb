{
 "cells": [
  {
   "cell_type": "code",
   "execution_count": 3,
   "source": [
    "#data\n",
    "a = [2, 4, 6, 8, 10, 12]\n",
    "b = [1, 3, 5, 7, 9, 11]\n",
    "c = [1, 2, 3, 5, 8, 13]"
   ],
   "outputs": [],
   "metadata": {}
  },
  {
   "cell_type": "code",
   "execution_count": 4,
   "source": [
    "# 1.\n",
    "print(a.index(int(input())))\n"
   ],
   "outputs": [
    {
     "output_type": "stream",
     "name": "stdout",
     "text": [
      "2\n"
     ]
    }
   ],
   "metadata": {}
  },
  {
   "cell_type": "code",
   "execution_count": 5,
   "source": [
    "# 2.\n",
    "num = int(input())\n",
    "for x in a:\n",
    "    if num-x in b:\n",
    "        print((a.index(x), b.index(num-x)))\n"
   ],
   "outputs": [
    {
     "output_type": "stream",
     "name": "stdout",
     "text": [
      "(0, 3)\n",
      "(1, 2)\n",
      "(2, 1)\n",
      "(3, 0)\n"
     ]
    }
   ],
   "metadata": {}
  },
  {
   "cell_type": "code",
   "execution_count": 6,
   "source": [
    "# 3.\n",
    "num = int(input())\n",
    "for x in a:\n",
    "    for y in b:\n",
    "        for z in c:\n",
    "            if num-x-y-z == 0:\n",
    "                print((a.index(x), b.index(y), c.index(z)))\n"
   ],
   "outputs": [
    {
     "output_type": "stream",
     "name": "stdout",
     "text": [
      "(0, 2, 5)\n",
      "(1, 1, 5)\n",
      "(1, 5, 3)\n",
      "(2, 0, 5)\n",
      "(2, 4, 3)\n",
      "(2, 5, 2)\n",
      "(3, 3, 3)\n",
      "(3, 4, 2)\n",
      "(3, 5, 0)\n",
      "(4, 2, 3)\n",
      "(4, 3, 2)\n",
      "(4, 4, 0)\n",
      "(5, 1, 3)\n",
      "(5, 2, 2)\n",
      "(5, 3, 0)\n"
     ]
    }
   ],
   "metadata": {}
  }
 ],
 "metadata": {
  "orig_nbformat": 4,
  "language_info": {
   "name": "python",
   "version": "3.8.12",
   "mimetype": "text/x-python",
   "codemirror_mode": {
    "name": "ipython",
    "version": 3
   },
   "pygments_lexer": "ipython3",
   "nbconvert_exporter": "python",
   "file_extension": ".py"
  },
  "kernelspec": {
   "name": "python3",
   "display_name": "Python 3.8.12 64-bit"
  },
  "interpreter": {
   "hash": "aee8b7b246df8f9039afb4144a1f6fd8d2ca17a180786b69acc140d282b71a49"
  }
 },
 "nbformat": 4,
 "nbformat_minor": 2
}