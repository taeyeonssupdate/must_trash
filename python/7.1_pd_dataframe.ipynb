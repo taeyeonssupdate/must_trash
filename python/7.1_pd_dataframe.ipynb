{
 "cells": [
  {
   "cell_type": "code",
   "execution_count": 1,
   "metadata": {},
   "outputs": [],
   "source": [
    "import pandas as pd"
   ]
  },
  {
   "cell_type": "code",
   "execution_count": 2,
   "metadata": {},
   "outputs": [],
   "source": [
    "df = pd.DataFrame({\n",
    "    \"name\": [\"Bob\", \"Ben\", \"Mary\", \"John\"],\n",
    "    \"ch\": [90, 80, 85, 70],\n",
    "    \"en\": [91, 81, 86, 71],\n",
    "    \"ma\": [92, 82, 87, 72], })\n",
    "df['totle'] = df.sum(axis=1)"
   ]
  },
  {
   "cell_type": "code",
   "execution_count": 3,
   "metadata": {},
   "outputs": [],
   "source": [
    "df = df.sort_values('totle', ascending=False)\n",
    "df = df.reset_index(drop=True)"
   ]
  },
  {
   "cell_type": "code",
   "execution_count": 4,
   "metadata": {},
   "outputs": [
    {
     "name": "stdout",
     "output_type": "stream",
     "text": [
      "   name  ch  en  ma  totle\n",
      "0   Bob  90  91  92    273\n",
      "1  Mary  85  86  87    258\n",
      "2   Ben  80  81  82    243\n",
      "3  John  70  71  72    213\n"
     ]
    }
   ],
   "source": [
    "df.to_csv('tmp.csv', index=False)\n",
    "print(pd.read_csv('tmp.csv'))"
   ]
  }
 ],
 "metadata": {
  "interpreter": {
   "hash": "aee8b7b246df8f9039afb4144a1f6fd8d2ca17a180786b69acc140d282b71a49"
  },
  "kernelspec": {
   "display_name": "Python 3.9.7 64-bit",
   "name": "python3"
  },
  "language_info": {
   "codemirror_mode": {
    "name": "ipython",
    "version": 3
   },
   "file_extension": ".py",
   "mimetype": "text/x-python",
   "name": "python",
   "nbconvert_exporter": "python",
   "pygments_lexer": "ipython3",
   "version": "3.9.7"
  },
  "orig_nbformat": 4
 },
 "nbformat": 4,
 "nbformat_minor": 2
}
