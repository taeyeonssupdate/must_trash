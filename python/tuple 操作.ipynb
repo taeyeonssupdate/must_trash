{
 "cells": [
  {
   "cell_type": "code",
   "execution_count": 1,
   "source": [
    "# 建立Tuples的方法\n",
    "ages = (26, 30, 40, 50)\n",
    "print(ages)\n",
    "\n",
    "titles = (\"Hellopython\", \"Tuples\")\n",
    "print(titles)\n",
    "\n",
    "ages = 26, 30, 40, 50\n",
    "print(ages)\n",
    "print(\"ages data type: \", type(ages))\n",
    "\n",
    "titles = \"Hellopython\", \"Tuples\"\n",
    "print(titles)\n",
    "print(\"titles data type: \", type(titles))\n",
    "\n",
    "ages = tuple([26, 30])\n",
    "print(ages)\n",
    "\n",
    "names = tuple(\"Mike\")\n",
    "print(names)\n",
    "\n",
    "numbers = tuple(range(10))\n",
    "print(numbers)\n",
    "\n",
    "age = (26, 30)*3\n",
    "print(age)"
   ],
   "outputs": [
    {
     "output_type": "stream",
     "name": "stdout",
     "text": [
      "(26, 30, 40, 50)\n",
      "('Hellopython', 'Tuples')\n",
      "(26, 30, 40, 50)\n",
      "ages data type:  <class 'tuple'>\n",
      "('Hellopython', 'Tuples')\n",
      "titles data type:  <class 'tuple'>\n",
      "(26, 30)\n",
      "('M', 'i', 'k', 'e')\n",
      "(0, 1, 2, 3, 4, 5, 6, 7, 8, 9)\n",
      "(26, 30, 26, 30, 26, 30)\n"
     ]
    }
   ],
   "metadata": {}
  },
  {
   "cell_type": "code",
   "execution_count": 2,
   "source": [
    "# 存取Tuples元素的方法\n",
    "ages = (25, 30, 40, 50)\n",
    "print(ages[1:3])\n",
    "print(ages[1:])\n",
    "print(ages[:3])\n",
    "print(ages[:])\n",
    "\n",
    "for age in ages:\n",
    "    print(age)"
   ],
   "outputs": [
    {
     "output_type": "stream",
     "name": "stdout",
     "text": [
      "(30, 40)\n",
      "(30, 40, 50)\n",
      "(25, 30, 40)\n",
      "(25, 30, 40, 50)\n",
      "25\n",
      "30\n",
      "40\n",
      "50\n"
     ]
    }
   ],
   "metadata": {}
  },
  {
   "cell_type": "code",
   "execution_count": 3,
   "source": [
    "# 尋找Tuples元素的方法\n",
    "ages = (25, 30, 40, 50)\n",
    "print(ages.index(30))\n",
    "\n",
    "age = (25, 30, 40, 50)\n",
    "if 100 in age:\n",
    "    print(ages.index(100))\n",
    "else:\n",
    "    print(\"100 not in tuples\")\n",
    "\n",
    "ages = (25, 30, 40, 25, 60, 25)\n",
    "print(ages.count(25))"
   ],
   "outputs": [
    {
     "output_type": "stream",
     "name": "stdout",
     "text": [
      "1\n",
      "100 not in tuples\n",
      "3\n"
     ]
    }
   ],
   "metadata": {}
  }
 ],
 "metadata": {
  "orig_nbformat": 4,
  "language_info": {
   "name": "python",
   "version": "3.9.6",
   "mimetype": "text/x-python",
   "codemirror_mode": {
    "name": "ipython",
    "version": 3
   },
   "pygments_lexer": "ipython3",
   "nbconvert_exporter": "python",
   "file_extension": ".py"
  },
  "kernelspec": {
   "name": "python3",
   "display_name": "Python 3.9.6 64-bit"
  },
  "interpreter": {
   "hash": "aee8b7b246df8f9039afb4144a1f6fd8d2ca17a180786b69acc140d282b71a49"
  }
 },
 "nbformat": 4,
 "nbformat_minor": 2
}