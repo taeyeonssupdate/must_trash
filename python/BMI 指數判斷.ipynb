{
 "cells": [
  {
   "cell_type": "code",
   "execution_count": 1,
   "source": [
    "h = float(input('Please enter your height(cm): '))\n",
    "w = float(input('Please enter your weight(kg): '))\n",
    "\n",
    "BMI = w/((h/100)**2)\n",
    "\n",
    "if BMI > 35:\n",
    "    print(f'Your BMI is {BMI:.1f}, you are extremely fat!')\n",
    "elif BMI > 30 and BMI <= 35:\n",
    "    print(f'Your BMI is {BMI:.1f}, you are fat!')\n",
    "elif BMI > 27 and BMI <= 30:\n",
    "    print(f'Your BMI is {BMI:.1f}, you are slightly fat!')\n",
    "elif BMI > 24 and BMI <= 27:\n",
    "    print(f'Your BMI is {BMI:.1f}, you are overweight!')\n",
    "elif BMI > 18.5 and BMI <= 24:\n",
    "    print(f'Your BMI is {BMI:.1f}, you have a normal weight.')\n",
    "else:\n",
    "    print(f'Your BMI is {BMI:.1f}, you are too light!')\n"
   ],
   "outputs": [
    {
     "output_type": "stream",
     "name": "stdout",
     "text": [
      "Your BMI is 21.6, you have a normal weight.\n"
     ]
    }
   ],
   "metadata": {}
  }
 ],
 "metadata": {
  "orig_nbformat": 4,
  "language_info": {
   "name": "python",
   "version": "3.8.12",
   "mimetype": "text/x-python",
   "codemirror_mode": {
    "name": "ipython",
    "version": 3
   },
   "pygments_lexer": "ipython3",
   "nbconvert_exporter": "python",
   "file_extension": ".py"
  },
  "kernelspec": {
   "name": "python3",
   "display_name": "Python 3.8.12 64-bit"
  },
  "interpreter": {
   "hash": "aee8b7b246df8f9039afb4144a1f6fd8d2ca17a180786b69acc140d282b71a49"
  }
 },
 "nbformat": 4,
 "nbformat_minor": 2
}