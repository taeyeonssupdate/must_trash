{
 "cells": [
  {
   "cell_type": "code",
   "execution_count": null,
   "source": [
    "import time\n",
    "import random\n",
    "while(True):\n",
    "    t = random.randint(1, 10)\n",
    "    input(str(t) + ' 秒時間感測試，轉備好後就按Enter鍵開始！')\n",
    "\n",
    "    start = time.time()\n",
    "    input('開始計時！按Enter鍵結數計時！')\n",
    "    end = time.time()\n",
    "\n",
    "    seconds = end - start\n",
    "    print('你的秒數：', round(seconds, 2))\n",
    "\n",
    "    error = abs(t-seconds)\n",
    "    print('誤差秒數：', round(error, 2))\n",
    "\n",
    "    acc = round(1-(error/t), 2)\n",
    "    print('準確度：', acc)\n",
    "\n",
    "    try_again = input('要再試一次嗎？(yes/no)')\n",
    "    if (try_again == 'yes'):\n",
    "        continue\n",
    "    else:\n",
    "        break\n"
   ],
   "outputs": [],
   "metadata": {}
  }
 ],
 "metadata": {
  "orig_nbformat": 4,
  "language_info": {
   "name": "python"
  }
 },
 "nbformat": 4,
 "nbformat_minor": 2
}