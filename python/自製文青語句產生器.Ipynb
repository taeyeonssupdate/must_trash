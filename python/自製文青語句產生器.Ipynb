{
 "cells": [
  {
   "cell_type": "code",
   "execution_count": null,
   "source": [
    "import random\n",
    "filename1 = '第一句.txt'\n",
    "filename2 = '第二句.txt'\n",
    "filename3 = '第三句.txt'\n",
    "\n",
    "with open(filename1) as file:\n",
    "    sentences1 = file.readlines()\n",
    "\n",
    "with open(filename2) as file:\n",
    "    sentences2 = file.readlines()\n",
    "\n",
    "with open(filename3) as file:\n",
    "    sentences3 = file.readlines()\n",
    "\n",
    "sentences1 = [sentence.strip() for sentence in sentences1]\n",
    "sentences2 = [sentence.strip() for sentence in sentences2]\n",
    "sentences3 = [sentence.strip() for sentence in sentences3]\n",
    "print(random.choice(sentences1)+'，'+random.choice(sentences2)+'，'+random.choice(sentences3)+'。')\n"
   ],
   "outputs": [],
   "metadata": {}
  }
 ],
 "metadata": {
  "orig_nbformat": 4,
  "language_info": {
   "name": "python"
  }
 },
 "nbformat": 4,
 "nbformat_minor": 2
}