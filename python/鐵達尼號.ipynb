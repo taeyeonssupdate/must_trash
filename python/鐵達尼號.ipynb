{
 "cells": [
  {
   "cell_type": "code",
   "execution_count": 7,
   "metadata": {},
   "outputs": [],
   "source": [
    "import numpy as np\n",
    "import pandas as pd"
   ]
  },
  {
   "cell_type": "code",
   "execution_count": 8,
   "metadata": {},
   "outputs": [],
   "source": [
    "df = pd.read_csv('titanc_train.csv')"
   ]
  },
  {
   "cell_type": "code",
   "execution_count": 9,
   "metadata": {},
   "outputs": [
    {
     "name": "stdout",
     "output_type": "stream",
     "text": [
      "資料筆數有 891個\n"
     ]
    }
   ],
   "source": [
    "print(f\"資料筆數有 {len(df)}個\")"
   ]
  },
  {
   "cell_type": "code",
   "execution_count": 10,
   "metadata": {},
   "outputs": [],
   "source": [
    "victim = df[(df.survived == 0)]\n",
    "survive = df[(df.survived == 1)]"
   ]
  },
  {
   "cell_type": "code",
   "execution_count": 11,
   "metadata": {},
   "outputs": [],
   "source": [
    "df = pd.concat([victim, survive])"
   ]
  },
  {
   "cell_type": "code",
   "execution_count": 12,
   "metadata": {},
   "outputs": [],
   "source": [
    "df['生存與否'] = np.where(df['survived'] == 0, '遇難', '生存')"
   ]
  },
  {
   "cell_type": "code",
   "execution_count": 13,
   "metadata": {},
   "outputs": [
    {
     "name": "stdout",
     "output_type": "stream",
     "text": [
      "生存人數為 342位\n",
      "遇難人數為 549位\n",
      "女性人數為 314位\n",
      "男性人數為 577位\n"
     ]
    }
   ],
   "source": [
    "print(f\"生存人數為 {len(df[(df.survived == 1)])}位\")\n",
    "print(f\"遇難人數為 {len(df[(df.survived == 0)])}位\")\n",
    "print(f\"女性人數為 {len(df[(df.sex == 'female')])}位\")\n",
    "print(f\"男性人數為 {len(df[(df.sex == 'male')])}位\")"
   ]
  },
  {
   "cell_type": "code",
   "execution_count": 14,
   "metadata": {},
   "outputs": [
    {
     "name": "stdout",
     "output_type": "stream",
     "text": [
      "最高票價 512.3292$\n",
      "最低票價 0.0$\n",
      "平均票價 32.204207968574636$\n"
     ]
    }
   ],
   "source": [
    "print(f\"最高票價 {df.fare.max()}$\")\n",
    "print(f\"最低票價 {df.fare.min()}$\")\n",
    "print(f\"平均票價 {df.fare.mean()}$\")"
   ]
  },
  {
   "cell_type": "code",
   "execution_count": 15,
   "metadata": {},
   "outputs": [
    {
     "name": "stdout",
     "output_type": "stream",
     "text": [
      "港口有 4\n"
     ]
    }
   ],
   "source": [
    "print(f\"港口有 {len(df.embarked.unique())}\")"
   ]
  },
  {
   "cell_type": "code",
   "execution_count": 16,
   "metadata": {},
   "outputs": [],
   "source": [
    "df.age = df.age.fillna(value=df.age.mean())\n"
   ]
  }
 ],
 "metadata": {
  "interpreter": {
   "hash": "aee8b7b246df8f9039afb4144a1f6fd8d2ca17a180786b69acc140d282b71a49"
  },
  "kernelspec": {
   "display_name": "Python 3.9.7 64-bit",
   "name": "python3"
  },
  "language_info": {
   "codemirror_mode": {
    "name": "ipython",
    "version": 3
   },
   "file_extension": ".py",
   "mimetype": "text/x-python",
   "name": "python",
   "nbconvert_exporter": "python",
   "pygments_lexer": "ipython3",
   "version": "3.9.7"
  },
  "orig_nbformat": 4
 },
 "nbformat": 4,
 "nbformat_minor": 2
}
