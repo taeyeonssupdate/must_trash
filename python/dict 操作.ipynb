{
 "cells": [
  {
   "cell_type": "code",
   "execution_count": 1,
   "source": [
    "# 建立Dictionary的方法\n",
    "heights = {\"Mike\": 170, \"Peter\": 165}\n",
    "cars = {1: \"nissan\", 2: \"toyota\"}\n",
    "print(heights)\n",
    "print(cars)\n",
    "\n",
    "heights = dict(Mike=170, Peter=165)\n",
    "print(heights)"
   ],
   "outputs": [
    {
     "output_type": "stream",
     "name": "stdout",
     "text": [
      "{'Mike': 170, 'Peter': 165}\n",
      "{1: 'nissan', 2: 'toyota'}\n",
      "{'Mike': 170, 'Peter': 165}\n"
     ]
    }
   ],
   "metadata": {}
  },
  {
   "cell_type": "code",
   "execution_count": 2,
   "source": [
    "# 存取Dictionary元素的方法\n",
    "heights = {\"Mike\": 170, \"Peter\": 165}\n",
    "print(heights[\"Mike\"])\n",
    "\n",
    "heights = {\"Mike\": 170, \"Peter\": 165}\n",
    "try:\n",
    "    print(heights[\"Harry\"])\n",
    "except KeyError as e:\n",
    "    print(f\"找不到Harry {e}\")\n",
    "\n",
    "if \"Harry\" in heights:\n",
    "    print(heights[\"Harry\"])\n",
    "\n",
    "for height in heights:\n",
    "    print(height)\n",
    "\n",
    "for height in heights.items():\n",
    "    print(height)"
   ],
   "outputs": [
    {
     "output_type": "stream",
     "name": "stdout",
     "text": [
      "170\n",
      "找不到Harry 'Harry'\n",
      "Mike\n",
      "Peter\n",
      "('Mike', 170)\n",
      "('Peter', 165)\n"
     ]
    }
   ],
   "metadata": {}
  },
  {
   "cell_type": "code",
   "execution_count": 3,
   "source": [
    "# 新增Dictionary元素的方法\n",
    "heights = {\"Mike\": 170, \"Peter\": 165}\n",
    "heights[\"John\"] = 175\n",
    "print(heights)"
   ],
   "outputs": [
    {
     "output_type": "stream",
     "name": "stdout",
     "text": [
      "{'Mike': 170, 'Peter': 165, 'John': 175}\n"
     ]
    }
   ],
   "metadata": {}
  },
  {
   "cell_type": "code",
   "execution_count": 4,
   "source": [
    "# 修改Dictionary元素的方法\n",
    "heights = {\"Mike\": 170, \"Peter\": 165}\n",
    "heights[\"Peter\"] = 160\n",
    "print(heights)"
   ],
   "outputs": [
    {
     "output_type": "stream",
     "name": "stdout",
     "text": [
      "{'Mike': 170, 'Peter': 160}\n"
     ]
    }
   ],
   "metadata": {}
  },
  {
   "cell_type": "code",
   "execution_count": 5,
   "source": [
    "# 刪除Dictionary元素的方法\n",
    "heights = {\"Mike\": 170, \"Peter\": 165}\n",
    "del heights[\"Peter\"]\n",
    "print(heights)\n",
    "\n",
    "heights = {\"Mike\": 170, \"Peter\": 165}\n",
    "heights.clear()\n",
    "print(heights)"
   ],
   "outputs": [
    {
     "output_type": "stream",
     "name": "stdout",
     "text": [
      "{'Mike': 170}\n",
      "{}\n"
     ]
    }
   ],
   "metadata": {}
  },
  {
   "cell_type": "code",
   "execution_count": 6,
   "source": [
    "# 尋找Dictionary元素的方法\n",
    "heights = {\"Mike\": 170, \"Peter\": 165}\n",
    "print(heights.get(\"Peter\"))\n",
    "print(heights.get(\"Harry\"))\n",
    "print(heights.get(\"Harry\", 0))\n"
   ],
   "outputs": [
    {
     "output_type": "stream",
     "name": "stdout",
     "text": [
      "165\n",
      "None\n",
      "0\n"
     ]
    }
   ],
   "metadata": {}
  }
 ],
 "metadata": {
  "orig_nbformat": 4,
  "language_info": {
   "name": "python",
   "version": "3.9.6",
   "mimetype": "text/x-python",
   "codemirror_mode": {
    "name": "ipython",
    "version": 3
   },
   "pygments_lexer": "ipython3",
   "nbconvert_exporter": "python",
   "file_extension": ".py"
  },
  "kernelspec": {
   "name": "python3",
   "display_name": "Python 3.9.6 64-bit"
  },
  "interpreter": {
   "hash": "aee8b7b246df8f9039afb4144a1f6fd8d2ca17a180786b69acc140d282b71a49"
  }
 },
 "nbformat": 4,
 "nbformat_minor": 2
}